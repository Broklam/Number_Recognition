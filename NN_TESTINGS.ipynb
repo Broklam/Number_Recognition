{
 "cells": [
  {
   "cell_type": "code",
   "execution_count": 2,
   "metadata": {},
   "outputs": [
    {
     "name": "stdout",
     "output_type": "stream",
     "text": [
      "Epoch 1/30\n",
      "   8/1875 [..............................] - ETA: 13s - loss: 2.2761 - accuracy: 0.1289  "
     ]
    },
    {
     "name": "stderr",
     "output_type": "stream",
     "text": [
      "2022-03-18 23:30:46.094753: I tensorflow/core/grappler/optimizers/custom_graph_optimizer_registry.cc:113] Plugin optimizer for device_type GPU is enabled.\n"
     ]
    },
    {
     "name": "stdout",
     "output_type": "stream",
     "text": [
      "1875/1875 [==============================] - 13s 7ms/step - loss: 0.2499 - accuracy: 0.9235\n",
      "Epoch 2/30\n",
      "1875/1875 [==============================] - 12s 6ms/step - loss: 0.1078 - accuracy: 0.9666\n",
      "Epoch 3/30\n",
      "1875/1875 [==============================] - 12s 6ms/step - loss: 0.0776 - accuracy: 0.9759\n",
      "Epoch 4/30\n",
      "1875/1875 [==============================] - 12s 6ms/step - loss: 0.0601 - accuracy: 0.9815\n",
      "Epoch 5/30\n",
      "1875/1875 [==============================] - 12s 6ms/step - loss: 0.0504 - accuracy: 0.9840\n",
      "Epoch 6/30\n",
      "1875/1875 [==============================] - 12s 6ms/step - loss: 0.0425 - accuracy: 0.9862\n",
      "Epoch 7/30\n",
      "1875/1875 [==============================] - 12s 6ms/step - loss: 0.0348 - accuracy: 0.9886\n",
      "Epoch 8/30\n",
      "1875/1875 [==============================] - 12s 6ms/step - loss: 0.0304 - accuracy: 0.9903\n",
      "Epoch 9/30\n",
      "1875/1875 [==============================] - 12s 6ms/step - loss: 0.0279 - accuracy: 0.9912\n",
      "Epoch 10/30\n",
      "1875/1875 [==============================] - 12s 7ms/step - loss: 0.0248 - accuracy: 0.9915\n",
      "Epoch 11/30\n",
      "1875/1875 [==============================] - 12s 7ms/step - loss: 0.0215 - accuracy: 0.9932\n",
      "Epoch 12/30\n",
      "1875/1875 [==============================] - 13s 7ms/step - loss: 0.0184 - accuracy: 0.9940\n",
      "Epoch 13/30\n",
      "1875/1875 [==============================] - 13s 7ms/step - loss: 0.0191 - accuracy: 0.9941\n",
      "Epoch 14/30\n",
      "1875/1875 [==============================] - 13s 7ms/step - loss: 0.0173 - accuracy: 0.9943\n",
      "Epoch 15/30\n",
      "1875/1875 [==============================] - 13s 7ms/step - loss: 0.0174 - accuracy: 0.9946\n",
      "Epoch 16/30\n",
      "1875/1875 [==============================] - 13s 7ms/step - loss: 0.0131 - accuracy: 0.9955\n",
      "Epoch 17/30\n",
      "1875/1875 [==============================] - 12s 7ms/step - loss: 0.0159 - accuracy: 0.9949\n",
      "Epoch 18/30\n",
      "1875/1875 [==============================] - 12s 6ms/step - loss: 0.0150 - accuracy: 0.9954\n",
      "Epoch 19/30\n",
      "1875/1875 [==============================] - 13s 7ms/step - loss: 0.0149 - accuracy: 0.9956\n",
      "Epoch 20/30\n",
      "1875/1875 [==============================] - 12s 7ms/step - loss: 0.0112 - accuracy: 0.9966\n",
      "Epoch 21/30\n",
      "1875/1875 [==============================] - 12s 7ms/step - loss: 0.0107 - accuracy: 0.9970\n",
      "Epoch 22/30\n",
      "1875/1875 [==============================] - 14s 8ms/step - loss: 0.0109 - accuracy: 0.9965\n",
      "Epoch 23/30\n",
      "1875/1875 [==============================] - 13s 7ms/step - loss: 0.0114 - accuracy: 0.9966\n",
      "Epoch 24/30\n",
      "1875/1875 [==============================] - 13s 7ms/step - loss: 0.0101 - accuracy: 0.9970\n",
      "Epoch 25/30\n",
      "1875/1875 [==============================] - 15s 8ms/step - loss: 0.0116 - accuracy: 0.9967\n",
      "Epoch 26/30\n",
      "1875/1875 [==============================] - 13s 7ms/step - loss: 0.0099 - accuracy: 0.9973\n",
      "Epoch 27/30\n",
      "1875/1875 [==============================] - 14s 8ms/step - loss: 0.0095 - accuracy: 0.9970\n",
      "Epoch 28/30\n",
      "1875/1875 [==============================] - 13s 7ms/step - loss: 0.0104 - accuracy: 0.9970\n",
      "Epoch 29/30\n",
      "1875/1875 [==============================] - 13s 7ms/step - loss: 0.0083 - accuracy: 0.9976\n",
      "Epoch 30/30\n",
      "1875/1875 [==============================] - 13s 7ms/step - loss: 0.0094 - accuracy: 0.9972\n",
      " 23/313 [=>............................] - ETA: 1s - loss: 0.1018 - accuracy: 0.9769   "
     ]
    },
    {
     "name": "stderr",
     "output_type": "stream",
     "text": [
      "2022-03-18 23:37:05.826105: I tensorflow/core/grappler/optimizers/custom_graph_optimizer_registry.cc:113] Plugin optimizer for device_type GPU is enabled.\n"
     ]
    },
    {
     "name": "stdout",
     "output_type": "stream",
     "text": [
      "313/313 [==============================] - 2s 5ms/step - loss: 0.1584 - accuracy: 0.9767\n",
      "0.9767000675201416 0.15838806331157684\n"
     ]
    }
   ],
   "source": [
    "import cv2 as cv \n",
    "import numpy as np\n",
    "import matplotlib.pyplot as plt\n",
    "import tensorflow as tf\n",
    "\n",
    "#Download dataset\n",
    "mnist = tf.keras.datasets.mnist\n",
    "\n",
    "#Split dataset\n",
    "(x_train, y_train), (x_test, y_test) = mnist.load_data()\n",
    "\n",
    "#Normalization\n",
    "x_train = tf.keras.utils.normalize(x_train, axis=1)\n",
    "x_test = tf.keras.utils.normalize(x_test, axis=1)\n",
    "\n",
    "#Creating model\n",
    "model = tf.keras.models.Sequential()\n",
    "\n",
    "#Adding layers\n",
    "model.add(tf.keras.layers.Flatten(input_shape=(28,28)))\n",
    "model.add(tf.keras.layers.Dense(units = 128, activation =tf.nn.relu))\n",
    "model.add(tf.keras.layers.Dense(units = 128, activation =tf.nn.relu))\n",
    "model.add(tf.keras.layers.Dense(units = 128, activation =tf.nn.relu))\n",
    "model.add(tf.keras.layers.Dense(units = 128, activation =tf.nn.relu))\n",
    "model.add(tf.keras.layers.Dense(units = 10, activation =tf.nn.softmax))\n",
    "\n",
    "#Compile Model\n",
    "model.compile(optimizer='adam', loss='sparse_categorical_crossentropy', metrics =['accuracy'])\n",
    "\n",
    "#Model Fit\n",
    "history = model.fit(x_train,y_train, epochs = 30)\n",
    "\n",
    "loss, accuracy = model.evaluate(x_test, y_test)\n",
    "print(accuracy, loss)\n"
   ]
  },
  {
   "cell_type": "code",
   "execution_count": 3,
   "metadata": {},
   "outputs": [
    {
     "data": {
      "text/plain": [
       "<matplotlib.legend.Legend at 0x1710e56a0>"
      ]
     },
     "execution_count": 3,
     "metadata": {},
     "output_type": "execute_result"
    },
    {
     "data": {
      "image/png": "[encoded data removed]",
      "text/plain": [
       "<Figure size 432x288 with 1 Axes>"
      ]
     },
     "metadata": {
      "needs_background": "light"
     },
     "output_type": "display_data"
    }
   ],
   "source": [
    "\n",
    "\n",
    "plt.plot(history.history['accuracy'], label='accuracy')\n",
    "plt.xlabel('Epoch')\n",
    "plt.ylabel('Accuracy')\n",
    "plt.ylim([0.93,1])\n",
    "plt.legend(loc='lower right')"
   ]
  },
  {
   "cell_type": "code",
   "execution_count": 9,
   "metadata": {},
   "outputs": [
    {
     "name": "stdout",
     "output_type": "stream",
     "text": [
      "INFO:tensorflow:Assets written to: /Users/ivanforov/Desktop/Layer_Number_Recognition/Model/assets\n"
     ]
    }
   ],
   "source": [
    "model.save('/Users/ivanforov/Desktop/Layer_Number_Recognition/Model')"
   ]
  }
 ],
 "metadata": {
  "interpreter": {
   "hash": "4976e0179d97dd6d59b1329a76e601e17b789c2571b41c8b57f5fd69821c0dd3"
  },
  "kernelspec": {
   "display_name": "Python 3.8.12 ('mlp')",
   "language": "python",
   "name": "python3"
  },
  "language_info": {
   "codemirror_mode": {
    "name": "ipython",
    "version": 3
   },
   "file_extension": ".py",
   "mimetype": "text/x-python",
   "name": "python",
   "nbconvert_exporter": "python",
   "pygments_lexer": "ipython3",
   "version": "3.8.12"
  },
  "orig_nbformat": 4
 },
 "nbformat": 4,
 "nbformat_minor": 2
}
